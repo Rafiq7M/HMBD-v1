{
 "cells": [
  {
   "cell_type": "markdown",
   "metadata": {},
   "source": [
    "# Image Classification Using CNN\n",
    "By : Rafiq "
   ]
  },
  {
   "cell_type": "code",
   "execution_count": 1,
   "metadata": {},
   "outputs": [],
   "source": [
    "import pandas as pd # type: ignore\n",
    "import numpy as np\n",
    "import matplotlib.pyplot as plt\n",
    "%matplotlib inline\n",
    "import seaborn as sns\n",
    "sns.set_theme(style=\"whitegrid\")\n",
    "import os\n",
    "import glob as gb\n",
    "import cv2\n",
    "import tensorflow as tf\n",
    "import keras\n",
    "from keras.callbacks import ModelCheckpoint \n",
    "from keras.callbacks import TensorBoard\n",
    "from keras.callbacks import EarlyStopping\n",
    "import pickle\n",
    "import random\n",
    "\n",
    "\n"
   ]
  },
  {
   "cell_type": "code",
   "execution_count": 2,
   "metadata": {},
   "outputs": [],
   "source": [
    "### dataset paths\n",
    "\n",
    "dataset = 'Dataset'\n",
    "trainpath = 'HMBD v1 dataset/trainpath'\n",
    "testpath = 'HMBD v1 dataset/testpath'\n",
    "predpath = 'HMBD v1 dataset/predpath'\n",
    "md_file_path = 'info.md'"
   ]
  },
  {
   "cell_type": "code",
   "execution_count": 3,
   "metadata": {},
   "outputs": [],
   "source": [
    "code = {\n",
    "    'Ain_End': 0,\n",
    "    'Ain_Isolated': 1,\n",
    "    'Ain_Middle': 2,\n",
    "    'Ain_Start': 3,\n",
    "    'Alf_End': 4,\n",
    "    'Alf_Hamza_Above_End': 5,\n",
    "    'Alf_Hamza_Above_Isolated': 6,\n",
    "    'Alf_Hamza_Under_End': 7,\n",
    "    'Alf_Hamza_Under_Isolated': 8,\n",
    "    'Alf_Isolated': 9,\n",
    "    'Baa_End': 10,\n",
    "    'Baa_Isolated': 11,\n",
    "    'Baa_Middle': 12,\n",
    "    'Baa_Start': 13,\n",
    "    'Daad_End': 14,\n",
    "    'Daad_Isolated': 15,\n",
    "    'Daad_Middle': 16,\n",
    "    'Daad_Start': 17,\n",
    "    'Dal_End': 18,\n",
    "    'Dal_Isolated': 19,\n",
    "    'Faa_End': 20,\n",
    "    'Faa_Isolated': 21,\n",
    "    'Faa_Middle': 22,\n",
    "    'Faa_Start': 23,\n",
    "    'Gem_End': 24,\n",
    "    'Gem_Isolated': 25,\n",
    "    'Gem_Start': 26,\n",
    "    'Gen_End': 27,\n",
    "    'Gen_Isolated': 28,\n",
    "    'Gen_Middle': 29,\n",
    "    'Ha_End': 30,\n",
    "    'Ha_Isolated': 31,\n",
    "    'Ha_Middle': 32,\n",
    "    'Ha_Start': 33,\n",
    "    'Haa_End': 34,\n",
    "    'Haa_Isolated': 35,\n",
    "    'Haa_Start': 36,\n",
    "    'Hamza_Isolated': 37,\n",
    "    'Kaf_End': 38,\n",
    "    'Kaf_Isolated': 39,\n",
    "    'Kaf_Middle': 40,\n",
    "    'Kaf_Start': 41,\n",
    "    'Khaa_End': 42,\n",
    "    'Khaa_Isolated': 43,\n",
    "    'Khaa_Start': 44,\n",
    "    'Lam_Alf_End': 45,\n",
    "    'Lam_Alf_Hamza_End': 46,\n",
    "    'Lam_Alf_Hamza_Isolated': 47,\n",
    "    'Lam_Alf_Isolated': 48,\n",
    "    'Lam_Alf_Mad_End': 49,\n",
    "    'Lam_Alf_Mad_Isolated': 50,\n",
    "    'Lam_End': 51,\n",
    "    'Lam_Isolated': 52,\n",
    "    'Lam_Middle': 53,\n",
    "    'Lam_Start': 54,\n",
    "    'Mem_End': 55,\n",
    "    'Mem_Isolated': 56,\n",
    "    'Mem_Start': 57,\n",
    "    'Non_End': 58,\n",
    "    'Non_Isolated': 59,\n",
    "    'Non_Middle': 60,\n",
    "    'Non_Start': 61,\n",
    "    'Qaf_End': 62,\n",
    "    'Qaf_Isolated': 63,\n",
    "    'Qaf_Middle': 64,\n",
    "    'Qaf_Start': 65,\n",
    "    'Raa_End': 66,\n",
    "    'Raa_Isolated': 67,\n",
    "    'Saad_End': 68,\n",
    "    'Saad_Isolated': 69,\n",
    "    'Saad_Middle': 70,\n",
    "    'Saad_Start': 71,\n",
    "    'Shen_End': 72,\n",
    "    'Shen_Isolated': 73,\n",
    "    'Shen_Middle': 74,\n",
    "    'Shen_Start': 75,\n",
    "    'Sin_End': 76,\n",
    "    'Sin_Isolated': 77,\n",
    "    'Sin_Middle': 78,\n",
    "    'Sin_Start': 79,\n",
    "    'Taa_End': 80,\n",
    "    'Taa_Isolated': 81,\n",
    "    'Taa_Middle': 82,\n",
    "    'Taa_Start': 83,\n",
    "    'Tah_Isolated': 84,\n",
    "    'Tah_Middle': 85,\n",
    "    'Thaa_End': 86,\n",
    "    'Thaa_Isolated': 87,\n",
    "    'Thaa_Middle': 88,\n",
    "    'Thaa_Start': 89,\n",
    "    'Waw_End': 90,\n",
    "    'Waw_Hamza_Isolated': 91,\n",
    "    'Waw_Isolated': 92,\n",
    "    'Yaa_Dot_End': 93,\n",
    "    'Yaa_Dot_Isolated': 94,\n",
    "    'Yaa_Dot_Start': 95,\n",
    "    'Yaa_End': 96,\n",
    "    'Yaa_Isolated': 97,\n",
    "    'Yaa_Middle': 98,\n",
    "    'Zah_Isolated': 99,\n",
    "    'Zah_Middle': 100,\n",
    "    'Zal_End': 101,\n",
    "    'Zal_Isolated': 102,\n",
    "    'Zin_End': 103,\n",
    "    'Zin_Isolated': 104\n",
    "}\n",
    "\n",
    "\n",
    "\n",
    "def getcode(n) : \n",
    "    for x , y in code.items() : \n",
    "        if n == y : \n",
    "            return x    "
   ]
  },
  {
   "cell_type": "code",
   "execution_count": 6,
   "metadata": {},
   "outputs": [],
   "source": [
    "s=32\n"
   ]
  },
  {
   "cell_type": "code",
   "execution_count": 7,
   "metadata": {},
   "outputs": [
    {
     "name": "stdout",
     "output_type": "stream",
     "text": [
      "we have 32304 items in X_train\n"
     ]
    }
   ],
   "source": [
    "# X_train = []\n",
    "# y_train = []\n",
    "# for folder in  os.listdir(trainpath) : \n",
    "#     files = gb.glob(pathname= str( trainpath +'/' + folder + '/*.jpg'))\n",
    "#     for file in files: \n",
    "#         image = cv2.imread(file)\n",
    "#         image_array = cv2.resize(image , (s,s))\n",
    "#         X_train.append(list(image_array))\n",
    "#         y_train.append(code[folder])\n",
    "\n",
    "# #  now how many items in X_train \n",
    "# print(f'we have {len(X_train)} items in X_train') "
   ]
  },
  {
   "cell_type": "code",
   "execution_count": 7,
   "metadata": {},
   "outputs": [],
   "source": [
    "# plt.figure(figsize=(12,12))\n",
    "# for n , i in enumerate(list(np.random.randint(0,len(X_train),36))) : \n",
    "#     plt.subplot(6,6,n+1)\n",
    "#     plt.imshow(X_train[i])   \n",
    "#     plt.axis('off')\n",
    "#     plt.title(getcode(y_train[i]))"
   ]
  },
  {
   "cell_type": "code",
   "execution_count": 8,
   "metadata": {},
   "outputs": [
    {
     "name": "stdout",
     "output_type": "stream",
     "text": [
      "we have 11297 items in X_test\n"
     ]
    }
   ],
   "source": [
    "# X_test = []\n",
    "# y_test = []\n",
    "# for folder in  os.listdir(testpath) : \n",
    "#     files = gb.glob(pathname= str(testpath + '/' + folder + '/*.jpg'))\n",
    "#     for file in files: \n",
    "#         image = cv2.imread(file)\n",
    "#         image_array = cv2.resize(image , (s,s))\n",
    "#         X_test.append(list(image_array))\n",
    "#         y_test.append(code[folder])\n",
    "\n",
    "# print(f'we have {len(X_test)} items in X_test')"
   ]
  },
  {
   "cell_type": "code",
   "execution_count": 9,
   "metadata": {},
   "outputs": [
    {
     "data": {
      "image/png": "[encoded data removed]",
      "text/plain": [
       "<Figure size 1200x1200 with 36 Axes>"
      ]
     },
     "metadata": {},
     "output_type": "display_data"
    }
   ],
   "source": [
    "# plt.figure(figsize=(12,12))\n",
    "# for n , i in enumerate(list(np.random.randint(0,len(X_test),36))) : \n",
    "#     plt.subplot(6,6,n+1)\n",
    "#     plt.imshow(X_test[i])    \n",
    "#     plt.axis('off')\n",
    "#     plt.title(getcode(y_test[i]))"
   ]
  },
  {
   "cell_type": "code",
   "execution_count": 10,
   "metadata": {},
   "outputs": [
    {
     "name": "stdout",
     "output_type": "stream",
     "text": [
      "we have 5830 items in X_pred\n"
     ]
    }
   ],
   "source": [
    "# X_pred = []\n",
    "# files = gb.glob(pathname= str(predpath + '/*.jpg'))\n",
    "# for file in files: \n",
    "#     image = cv2.imread(file)\n",
    "#     image_array = cv2.resize(image , (s,s))\n",
    "#     X_pred.append(list(image_array))     \n",
    "# print(f'we have {len(X_pred)} items in X_pred')  "
   ]
  },
  {
   "cell_type": "code",
   "execution_count": 11,
   "metadata": {},
   "outputs": [],
   "source": [
    "# plt.figure(figsize=(12,12))\n",
    "# for n , i in enumerate(list(np.random.randint(0,len(X_pred),36))) : \n",
    "#     plt.subplot(6,6,n+1)\n",
    "#     plt.imshow(X_pred[i])    \n",
    "#     plt.axis('off')"
   ]
  },
  {
   "cell_type": "code",
   "execution_count": 11,
   "metadata": {},
   "outputs": [],
   "source": [
    "# # import pickle\n",
    "# # save images array data\n",
    "# pickle_out=open(\"dataSave/x_train.pickle\",\"wb\")\n",
    "# pickle.dump(X_train,pickle_out)\n",
    "\n",
    "\n",
    "# pickle_out=open(\"dataSave/y_train.pickle\",\"wb\")\n",
    "# pickle.dump(y_train,pickle_out)\n",
    "\n",
    "\n",
    "# pickle_out=open(\"dataSave/x_test.pickle\",\"wb\")\n",
    "# pickle.dump(X_test,pickle_out)\n",
    "\n",
    "\n",
    "# pickle_out=open(\"dataSave/y_test.pickle\",\"wb\")\n",
    "# pickle.dump(y_test,pickle_out)\n",
    "\n",
    "# pickle_out=open(\"dataSave/X_pred.pickle\",\"wb\")\n",
    "# pickle.dump(X_pred,pickle_out)\n",
    "\n"
   ]
  },
  {
   "cell_type": "code",
   "execution_count": null,
   "metadata": {},
   "outputs": [],
   "source": []
  },
  {
   "cell_type": "code",
   "execution_count": 13,
   "metadata": {},
   "outputs": [],
   "source": [
    "\n",
    "# load images array data\n",
    "\n",
    "pickle_in=open(\"dataSave/x_train.pickle\",\"rb\")\n",
    "X_train= pickle.load(pickle_in)\n",
    "\n",
    "\n",
    "pickle_in=open(\"dataSave/y_train.pickle\",\"rb\")\n",
    "y_train= pickle.load(pickle_in)\n",
    " \n",
    "\n",
    "pickle_in=open(\"dataSave/x_test.pickle\",\"rb\")\n",
    "X_test= pickle.load(pickle_in)\n",
    "\n",
    "\n",
    "pickle_in=open(\"dataSave/y_test.pickle\",\"rb\")\n",
    "y_test= pickle.load(pickle_in)\n",
    "\n",
    "pickle_in=open(\"dataSave/X_pred.pickle\",\"rb\")\n",
    "X_pred= pickle.load(pickle_in)\n",
    "\n"
   ]
  },
  {
   "cell_type": "code",
   "execution_count": 14,
   "metadata": {},
   "outputs": [],
   "source": [
    "\n",
    "# تجميع القوائم X_train و y_train معًا\n",
    "combined = list(zip(X_train, y_train))\n",
    "random.shuffle(combined)#خلط\n",
    "X_train, y_train= zip(*combined)#فصل بعد الخلط\n",
    "\n",
    "\n",
    "combined = list(zip(X_test, y_test))\n",
    "random.shuffle(combined) \n",
    "X_test, y_test= zip(*combined) \n",
    "\n",
    "random.shuffle(X_pred) \n",
    "\n"
   ]
  },
  {
   "cell_type": "code",
   "execution_count": 15,
   "metadata": {},
   "outputs": [
    {
     "data": {
      "image/png": "[encoded data removed]",
      "text/plain": [
       "<Figure size 800x800 with 16 Axes>"
      ]
     },
     "metadata": {},
     "output_type": "display_data"
    }
   ],
   "source": [
    "plt.figure(figsize=(8,8))\n",
    "for n , i in enumerate(list(np.random.randint(0,len(X_test),16))) : \n",
    "    plt.subplot(4,4,n+1)\n",
    "    plt.imshow(X_test[i])    \n",
    "    plt.axis('off')\n",
    "    plt.title(getcode(y_test[i]))\n",
    "    \n",
    "# plt.figure(figsize=(8,8))\n",
    "# for n , i in enumerate(list(np.random.randint(0,len(X_train),16))) : \n",
    "#     plt.subplot(4,4,n+1)\n",
    "#     plt.imshow(X_train[i])    \n",
    "#     plt.axis('off')\n",
    "#     plt.title(getcode(y_train[i]))\n",
    "    \n",
    "# plt.figure(figsize=(8,8))\n",
    "# for n , i in enumerate(list(np.random.randint(0,len(X_pred),16))) : \n",
    "#     plt.subplot(4,4,n+1)\n",
    "#     plt.imshow(X_pred[i])    \n",
    "#     plt.axis('off')"
   ]
  },
  {
   "cell_type": "code",
   "execution_count": 16,
   "metadata": {},
   "outputs": [
    {
     "name": "stdout",
     "output_type": "stream",
     "text": [
      "X_train shape  is (32304, 32, 32, 3)\n",
      "X_test shape  is (11297, 32, 32, 3)\n",
      "X_pred shape  is (5830, 32, 32, 3)\n",
      "y_train shape  is (32304,)\n",
      "y_test shape  is (11297,)\n"
     ]
    }
   ],
   "source": [
    "# convert to array with normalize [0,1]\n",
    "\n",
    "# X_train = keras.utils.normalize(np.array(X_train),axis=1)\n",
    "# X_test = keras.utils.normalize(np.array(X_test),axis=1)\n",
    "# X_pred_array = keras.utils.normalize(np.array(X_pred),axis=1)\n",
    "# y_train = np.array(y_train)\n",
    "# y_test = np.array(y_test)\n",
    " \n",
    "\n",
    "# convert to array without normalize \n",
    "X_train = np.array(X_train)\n",
    "X_test = np.array(X_test)\n",
    "X_pred_array = np.array(X_pred)\n",
    "y_train = np.array(y_train)\n",
    "y_test = np.array(y_test)\n",
    "\n",
    "\n",
    "print(f'X_train shape  is {X_train.shape}')\n",
    "print(f'X_test shape  is {X_test.shape}')\n",
    "print(f'X_pred shape  is {X_pred_array.shape}')\n",
    "print(f'y_train shape  is {y_train.shape}')\n",
    "print(f'y_test shape  is {y_test.shape}')"
   ]
  },
  {
   "cell_type": "code",
   "execution_count": null,
   "metadata": {},
   "outputs": [],
   "source": []
  },
  {
   "cell_type": "code",
   "execution_count": 16,
   "metadata": {},
   "outputs": [],
   "source": [
    "\n",
    "# checkpoint_filepath='weights-improvement--{epoch:02d}-{val_accuray:.2f}.hdf5' #لعمل عددة ملفات حسب الدقة والايبوك\n",
    "checkpoint_filepath='dataSave/weights.best.hdf5' # or 'best_model.hdf5' any name\n",
    "checkpoint=ModelCheckpoint(filepath=checkpoint_filepath,monitor='val_accuracy',verbose=1,save_best_only=True,mode='max')\n",
    "tensorBoard=TensorBoard(log_dir='dataSave/model_logs',histogram_freq=1,write_graph=True,write_images=True) \n",
    "es=EarlyStopping(monitor='val_loss',mode='min',verbose=1,patience=5) # اذا وصلت الى اقل قيمة للوس زيد 10 دورات اذا قلت قيمة اللوس كمل دورات التدريب واذا زادت قيمة اللوس وقف التدريب\n",
    "\n",
    "callbacks_list=[checkpoint,tensorBoard,es]\n",
    "\n",
    "\n",
    " "
   ]
  },
  {
   "cell_type": "code",
   "execution_count": null,
   "metadata": {},
   "outputs": [],
   "source": [
    "KerasModel = keras.models.Sequential([\n",
    "    keras.layers.Conv2D(16, kernel_size=(9, 9), activation='relu', input_shape=(s, s, 3)),\n",
    "    keras.layers.Conv2D(16, kernel_size=(9, 9), activation='relu'),\n",
    "    keras.layers.BatchNormalization(),\n",
    "    keras.layers.MaxPool2D(pool_size=(2, 2), strides=2), \n",
    " \n",
    "    keras.layers.Conv2D(32, kernel_size=(5, 5), activation='relu'),\n",
    "    keras.layers.Conv2D(32, kernel_size=(5, 5), activation='relu'),\n",
    "    keras.layers.BatchNormalization(),  \n",
    "    keras.layers.MaxPool2D(pool_size=(2, 2), strides=1), \n",
    " \n",
    "    keras.layers.Conv2D(64, kernel_size=(5, 5), activation='relu'),\n",
    "    keras.layers.Conv2D(64, kernel_size=(5, 5), activation='relu'),\n",
    "    keras.layers.BatchNormalization(),  \n",
    "    keras.layers.MaxPool2D(pool_size=(2, 2), strides=1), \n",
    "    \n",
    "    keras.layers.Flatten(),  \n",
    "    keras.layers.Dense(512, activation='relu'),\n",
    "    keras.layers.Dense(105, activation='softmax')\n",
    "])\n",
    "\n",
    "# save_model=keras.models.load_model(\"dataSave/epoch15_best_model.hdf5\")\n",
    "# KerasModel.load_wieghts(\"dataSave/epoch15_best_model.hdf5\")\n",
    " "
   ]
  },
  {
   "cell_type": "code",
   "execution_count": 17,
   "metadata": {},
   "outputs": [
    {
     "ename": "",
     "evalue": "",
     "output_type": "error",
     "traceback": [
      "\u001b[1;31mThe Kernel crashed while executing code in the current cell or a previous cell. \n",
      "\u001b[1;31mPlease review the code in the cell(s) to identify a possible cause of the failure. \n",
      "\u001b[1;31mClick <a href='https://aka.ms/vscodeJupyterKernelCrash'>here</a> for more info. \n",
      "\u001b[1;31mView Jupyter <a href='command:jupyter.viewOutput'>log</a> for further details."
     ]
    }
   ],
   "source": [
    "KerasModel = keras.models.Sequential([\n",
    "    keras.layers.Conv2D(16, kernel_size=(16, 16), activation='relu', input_shape=(s, s, 3)),\n",
    "    keras.layers.Conv2D(16, kernel_size=(16, 16), activation='relu'),\n",
    "    keras.layers.BatchNormalization(),\n",
    "    keras.layers.MaxPool2D(pool_size=(2, 2), strides=2), \n",
    "    \n",
    "    keras.layers.Conv2D(32, kernel_size=(8, 8), activation='relu'),\n",
    "    keras.layers.Conv2D(48, kernel_size=(6, 6), activation='relu'),\n",
    "    keras.layers.BatchNormalization(),  \n",
    "    keras.layers.MaxPool2D(pool_size=(2, 2), strides=1), \n",
    "    keras.layers.Flatten(), #768 \n",
    "    keras.layers.Dense(512, activation='relu'),\n",
    "    keras.layers.Dense(105, activation='softmax')\n",
    "])\n",
    "\n",
    "# save_model=keras.models.load_model(\"dataSave/epoch15_best_model.hdf5\")\n",
    "# KerasModel.load_wieghts(\"dataSave/epoch15_best_model.hdf5\")\n",
    " "
   ]
  },
  {
   "cell_type": "code",
   "execution_count": 18,
   "metadata": {},
   "outputs": [
    {
     "name": "stdout",
     "output_type": "stream",
     "text": [
      "Model Details are : \n",
      "Model: \"sequential_1\"\n",
      "_________________________________________________________________\n",
      " Layer (type)                Output Shape              Param #   \n",
      "=================================================================\n",
      " conv2d_4 (Conv2D)           (None, 49, 49, 16)        12304     \n",
      "                                                                 \n",
      " conv2d_5 (Conv2D)           (None, 34, 34, 16)        65552     \n",
      "                                                                 \n",
      " batch_normalization_2 (Batc  (None, 34, 34, 16)       64        \n",
      " hNormalization)                                                 \n",
      "                                                                 \n",
      " max_pooling2d_2 (MaxPooling  (None, 17, 17, 16)       0         \n",
      " 2D)                                                             \n",
      "                                                                 \n",
      " conv2d_6 (Conv2D)           (None, 10, 10, 32)        32800     \n",
      "                                                                 \n",
      " conv2d_7 (Conv2D)           (None, 5, 5, 48)          55344     \n",
      "                                                                 \n",
      " batch_normalization_3 (Batc  (None, 5, 5, 48)         192       \n",
      " hNormalization)                                                 \n",
      "                                                                 \n",
      " max_pooling2d_3 (MaxPooling  (None, 4, 4, 48)         0         \n",
      " 2D)                                                             \n",
      "                                                                 \n",
      " flatten_1 (Flatten)         (None, 768)               0         \n",
      "                                                                 \n",
      " dense_2 (Dense)             (None, 512)               393728    \n",
      "                                                                 \n",
      " dense_3 (Dense)             (None, 105)               53865     \n",
      "                                                                 \n",
      "=================================================================\n",
      "Total params: 613,849\n",
      "Trainable params: 613,721\n",
      "Non-trainable params: 128\n"
     ]
    },
    {
     "name": "stdout",
     "output_type": "stream",
     "text": [
      "_________________________________________________________________\n",
      "None\n"
     ]
    }
   ],
   "source": [
    "KerasModel.compile(optimizer ='adam',loss='sparse_categorical_crossentropy',metrics=['accuracy'])\n",
    "print('Model Details are : ')\n",
    "print(KerasModel.summary())"
   ]
  },
  {
   "cell_type": "markdown",
   "metadata": {},
   "source": [
    "now to train the model , lets use 50 epochs now"
   ]
  },
  {
   "cell_type": "code",
   "execution_count": 19,
   "metadata": {},
   "outputs": [
    {
     "name": "stdout",
     "output_type": "stream",
     "text": [
      "Epoch 1/15\n",
      "505/505 [==============================] - ETA: 0s - loss: 3.3263 - accuracy: 0.1837WARNING:tensorflow:Can save best model only with val_accuracy available, skipping.\n",
      "WARNING:tensorflow:Early stopping conditioned on metric `val_loss` which is not available. Available metrics are: loss,accuracy\n",
      "505/505 [==============================] - 461s 910ms/step - loss: 3.3263 - accuracy: 0.1837\n",
      "Epoch 2/15\n",
      "505/505 [==============================] - ETA: 0s - loss: 2.1951 - accuracy: 0.3765WARNING:tensorflow:Can save best model only with val_accuracy available, skipping.\n",
      "WARNING:tensorflow:Early stopping conditioned on metric `val_loss` which is not available. Available metrics are: loss,accuracy\n",
      "505/505 [==============================] - 500s 991ms/step - loss: 2.1951 - accuracy: 0.3765\n",
      "Epoch 3/15\n",
      "505/505 [==============================] - ETA: 0s - loss: 1.7836 - accuracy: 0.4720WARNING:tensorflow:Can save best model only with val_accuracy available, skipping.\n",
      "WARNING:tensorflow:Early stopping conditioned on metric `val_loss` which is not available. Available metrics are: loss,accuracy\n",
      "505/505 [==============================] - 490s 970ms/step - loss: 1.7836 - accuracy: 0.4720\n",
      "Epoch 4/15\n",
      "505/505 [==============================] - ETA: 0s - loss: 1.5728 - accuracy: 0.5286WARNING:tensorflow:Can save best model only with val_accuracy available, skipping.\n",
      "WARNING:tensorflow:Early stopping conditioned on metric `val_loss` which is not available. Available metrics are: loss,accuracy\n",
      "505/505 [==============================] - 513s 1s/step - loss: 1.5728 - accuracy: 0.5286\n",
      "Epoch 5/15\n",
      "505/505 [==============================] - ETA: 0s - loss: 1.3950 - accuracy: 0.5712WARNING:tensorflow:Can save best model only with val_accuracy available, skipping.\n",
      "WARNING:tensorflow:Early stopping conditioned on metric `val_loss` which is not available. Available metrics are: loss,accuracy\n",
      "505/505 [==============================] - 497s 984ms/step - loss: 1.3950 - accuracy: 0.5712\n",
      "Epoch 6/15\n",
      "505/505 [==============================] - ETA: 0s - loss: 1.2836 - accuracy: 0.6011WARNING:tensorflow:Can save best model only with val_accuracy available, skipping.\n",
      "WARNING:tensorflow:Early stopping conditioned on metric `val_loss` which is not available. Available metrics are: loss,accuracy\n",
      "505/505 [==============================] - 476s 942ms/step - loss: 1.2836 - accuracy: 0.6011\n",
      "Epoch 7/15\n",
      "505/505 [==============================] - ETA: 0s - loss: 1.1775 - accuracy: 0.6271WARNING:tensorflow:Can save best model only with val_accuracy available, skipping.\n",
      "WARNING:tensorflow:Early stopping conditioned on metric `val_loss` which is not available. Available metrics are: loss,accuracy\n",
      "505/505 [==============================] - 458s 906ms/step - loss: 1.1775 - accuracy: 0.6271\n",
      "Epoch 8/15\n",
      "505/505 [==============================] - ETA: 0s - loss: 1.0711 - accuracy: 0.6597WARNING:tensorflow:Can save best model only with val_accuracy available, skipping.\n",
      "WARNING:tensorflow:Early stopping conditioned on metric `val_loss` which is not available. Available metrics are: loss,accuracy\n",
      "505/505 [==============================] - 461s 912ms/step - loss: 1.0711 - accuracy: 0.6597\n",
      "Epoch 9/15\n",
      "505/505 [==============================] - ETA: 0s - loss: 0.9810 - accuracy: 0.6811WARNING:tensorflow:Can save best model only with val_accuracy available, skipping.\n",
      "WARNING:tensorflow:Early stopping conditioned on metric `val_loss` which is not available. Available metrics are: loss,accuracy\n",
      "505/505 [==============================] - 451s 892ms/step - loss: 0.9810 - accuracy: 0.6811\n",
      "Epoch 10/15\n",
      "505/505 [==============================] - ETA: 0s - loss: 0.9050 - accuracy: 0.7016WARNING:tensorflow:Can save best model only with val_accuracy available, skipping.\n",
      "WARNING:tensorflow:Early stopping conditioned on metric `val_loss` which is not available. Available metrics are: loss,accuracy\n",
      "505/505 [==============================] - 441s 874ms/step - loss: 0.9050 - accuracy: 0.7016\n",
      "Epoch 11/15\n",
      "505/505 [==============================] - ETA: 0s - loss: 0.8315 - accuracy: 0.7242WARNING:tensorflow:Can save best model only with val_accuracy available, skipping.\n",
      "WARNING:tensorflow:Early stopping conditioned on metric `val_loss` which is not available. Available metrics are: loss,accuracy\n",
      "505/505 [==============================] - 424s 839ms/step - loss: 0.8315 - accuracy: 0.7242\n",
      "Epoch 12/15\n",
      "505/505 [==============================] - ETA: 0s - loss: 0.7601 - accuracy: 0.7468WARNING:tensorflow:Can save best model only with val_accuracy available, skipping.\n",
      "WARNING:tensorflow:Early stopping conditioned on metric `val_loss` which is not available. Available metrics are: loss,accuracy\n",
      "505/505 [==============================] - 439s 870ms/step - loss: 0.7601 - accuracy: 0.7468\n",
      "Epoch 13/15\n",
      "505/505 [==============================] - ETA: 0s - loss: 0.7068 - accuracy: 0.7643WARNING:tensorflow:Can save best model only with val_accuracy available, skipping.\n",
      "WARNING:tensorflow:Early stopping conditioned on metric `val_loss` which is not available. Available metrics are: loss,accuracy\n",
      "505/505 [==============================] - 429s 849ms/step - loss: 0.7068 - accuracy: 0.7643\n",
      "Epoch 14/15\n",
      "505/505 [==============================] - ETA: 0s - loss: 0.6573 - accuracy: 0.7797WARNING:tensorflow:Can save best model only with val_accuracy available, skipping.\n",
      "WARNING:tensorflow:Early stopping conditioned on metric `val_loss` which is not available. Available metrics are: loss,accuracy\n",
      "505/505 [==============================] - 446s 883ms/step - loss: 0.6573 - accuracy: 0.7797\n",
      "Epoch 15/15\n",
      "505/505 [==============================] - ETA: 0s - loss: 0.5963 - accuracy: 0.7987WARNING:tensorflow:Can save best model only with val_accuracy available, skipping.\n",
      "WARNING:tensorflow:Early stopping conditioned on metric `val_loss` which is not available. Available metrics are: loss,accuracy\n",
      "505/505 [==============================] - 436s 863ms/step - loss: 0.5963 - accuracy: 0.7987\n"
     ]
    }
   ],
   "source": [
    "epochs =15\n",
    "# history=KerasModel.fit(X_train,y_train,validation_data=(X_test,y_test),epochs=epochs,verbose=1,callbacks=callbacks_list)\n",
    "\n",
    "# ThisModel = KerasModel.fit(X_train, y_train, epochs=epochs,batch_size=64,callbacks=callbacks_list,verbose=1)"
   ]
  },
  {
   "cell_type": "code",
   "execution_count": null,
   "metadata": {},
   "outputs": [],
   "source": [
    "\n",
    "\n",
    "def plot_loss_accuracy(history):\n",
    "  # Loss Curves\n",
    "  plt.figure(figsize=[8,6])\n",
    "  plt.plot(history.history['loss'],'r',linewidth=3.0)\n",
    "  plt.plot(history.history['val_loss'],'b',linewidth=3.0)\n",
    "  plt.legend(['Training loss', 'Validation Loss'],fontsize=18)\n",
    "  plt.xlabel('Epochs ',fontsize=16)\n",
    "  plt.ylabel('Loss',fontsize=16)\n",
    "  plt.title('Loss Curves',fontsize=16)\n",
    "\n",
    "  # Accuracy Curves\n",
    "  plt.figure(figsize=[8,6])\n",
    "  plt.plot(history.history['acc'],'r',linewidth=3.0)\n",
    "  plt.plot(history.history['val_acc'],'b',linewidth=3.0)\n",
    "  plt.legend(['Training Accuracy', 'Validation Accuracy'],fontsize=18)\n",
    "  plt.xlabel('Epochs ',fontsize=16)\n",
    "  plt.ylabel('Accuracy',fontsize=16)\n",
    "  plt.title('Accuracy Curves',fontsize=16) "
   ]
  },
  {
   "cell_type": "code",
   "execution_count": 11,
   "metadata": {},
   "outputs": [],
   "source": [
    "# KerasModel.save(\"dataSave/epoch15_best_model.hdf5\")\n",
    "# save_model=keras.models.load_model(\"dataSave/epoch15_best_model.hdf5\")\n",
    " "
   ]
  },
  {
   "cell_type": "code",
   "execution_count": 1,
   "metadata": {},
   "outputs": [
    {
     "ename": "NameError",
     "evalue": "name 'keras' is not defined",
     "output_type": "error",
     "traceback": [
      "\u001b[1;31m---------------------------------------------------------------------------\u001b[0m",
      "\u001b[1;31mNameError\u001b[0m                                 Traceback (most recent call last)",
      "Cell \u001b[1;32mIn[1], line 2\u001b[0m\n\u001b[0;32m      1\u001b[0m \u001b[38;5;66;03m# when load model from save file must be compile it\u001b[39;00m\n\u001b[1;32m----> 2\u001b[0m KerasModel\u001b[38;5;241m=\u001b[39m\u001b[43mkeras\u001b[49m\u001b[38;5;241m.\u001b[39mmodels\u001b[38;5;241m.\u001b[39mload_model(\u001b[38;5;124m\"\u001b[39m\u001b[38;5;124mdataSave/epoch15_best_model.hdf5\u001b[39m\u001b[38;5;124m\"\u001b[39m)\n\u001b[0;32m      3\u001b[0m KerasModel\u001b[38;5;241m.\u001b[39mcompile(optimizer \u001b[38;5;241m=\u001b[39m\u001b[38;5;124m'\u001b[39m\u001b[38;5;124madam\u001b[39m\u001b[38;5;124m'\u001b[39m,loss\u001b[38;5;241m=\u001b[39m\u001b[38;5;124m'\u001b[39m\u001b[38;5;124msparse_categorical_crossentropy\u001b[39m\u001b[38;5;124m'\u001b[39m,metrics\u001b[38;5;241m=\u001b[39m[\u001b[38;5;124m'\u001b[39m\u001b[38;5;124maccuracy\u001b[39m\u001b[38;5;124m'\u001b[39m])\n\u001b[0;32m      4\u001b[0m \u001b[38;5;28mprint\u001b[39m(\u001b[38;5;124m'\u001b[39m\u001b[38;5;124mModel Details are : \u001b[39m\u001b[38;5;124m'\u001b[39m)\n",
      "\u001b[1;31mNameError\u001b[0m: name 'keras' is not defined"
     ]
    }
   ],
   "source": [
    "# when load model from save file must be compile it\n",
    "KerasModel=keras.models.load_model(\"dataSave/epoch15_best_model.hdf5\")\n",
    "KerasModel.compile(optimizer ='adam',loss='sparse_categorical_crossentropy',metrics=['accuracy'])\n",
    "print('Model Details are : ')\n",
    "print(KerasModel.summary())"
   ]
  },
  {
   "cell_type": "markdown",
   "metadata": {},
   "source": [
    "how is the final loss & accuracy\n"
   ]
  },
  {
   "cell_type": "code",
   "execution_count": 14,
   "metadata": {},
   "outputs": [
    {
     "name": "stdout",
     "output_type": "stream",
     "text": [
      "354/354 [==============================] - 11s 29ms/step - loss: 4.6540 - accuracy: 0.0089\n",
      "Test Loss is 4.65399694442749\n",
      "Test Accuracy is 0.008940426632761955\n"
     ]
    }
   ],
   "source": [
    "ModelLoss, ModelAccuracy = KerasModel.evaluate(X_test, y_test)\n",
    "# ModelLoss, ModelAccuracy = save_model.evaluate(X_test, y_test)\n",
    "\n",
    "print('Test Loss is {}'.format(ModelLoss))\n",
    "print('Test Accuracy is {}'.format(ModelAccuracy ))"
   ]
  },
  {
   "cell_type": "code",
   "execution_count": 24,
   "metadata": {},
   "outputs": [
    {
     "name": "stdout",
     "output_type": "stream",
     "text": [
      "354/354 [==============================] - 10s 27ms/step\n",
      "Prediction Shape is (11297, 105)\n"
     ]
    }
   ],
   "source": [
    "y_pred = KerasModel.predict(X_test)\n",
    "\n",
    "print('Prediction Shape is {}'.format(y_pred.shape))"
   ]
  },
  {
   "cell_type": "markdown",
   "metadata": {},
   "source": [
    "great\n",
    "\n",
    "now it's time to redict X Predict"
   ]
  },
  {
   "cell_type": "code",
   "execution_count": 25,
   "metadata": {},
   "outputs": [
    {
     "name": "stdout",
     "output_type": "stream",
     "text": [
      "183/183 [==============================] - 5s 26ms/step\n",
      "Prediction Shape is (5830, 105)\n"
     ]
    }
   ],
   "source": [
    "y_result = KerasModel.predict(X_pred_array)\n",
    "print('Prediction Shape is {}'.format(y_result.shape))"
   ]
  },
  {
   "cell_type": "code",
   "execution_count": 1,
   "metadata": {},
   "outputs": [
    {
     "ename": "NameError",
     "evalue": "name 'getcode' is not defined",
     "output_type": "error",
     "traceback": [
      "\u001b[1;31m---------------------------------------------------------------------------\u001b[0m",
      "\u001b[1;31mNameError\u001b[0m                                 Traceback (most recent call last)",
      "Cell \u001b[1;32mIn[1], line 1\u001b[0m\n\u001b[1;32m----> 1\u001b[0m \u001b[38;5;28mprint\u001b[39m(\u001b[43mgetcode\u001b[49m(np\u001b[38;5;241m.\u001b[39margmax(y_result[:\u001b[38;5;241m11\u001b[39m])))\n",
      "\u001b[1;31mNameError\u001b[0m: name 'getcode' is not defined"
     ]
    }
   ],
   "source": [
    "print(getcode(np.argmax(y_result[:11])))"
   ]
  },
  {
   "cell_type": "markdown",
   "metadata": {},
   "source": [
    "and to show random redicted pictures & its predicting category\n"
   ]
  },
  {
   "cell_type": "code",
   "execution_count": 26,
   "metadata": {},
   "outputs": [
    {
     "ename": "",
     "evalue": "",
     "output_type": "error",
     "traceback": [
      "\u001b[1;31mThe Kernel crashed while executing code in the current cell or a previous cell. \n",
      "\u001b[1;31mPlease review the code in the cell(s) to identify a possible cause of the failure. \n",
      "\u001b[1;31mClick <a href='https://aka.ms/vscodeJupyterKernelCrash'>here</a> for more info. \n",
      "\u001b[1;31mView Jupyter <a href='command:jupyter.viewOutput'>log</a> for further details."
     ]
    }
   ],
   "source": [
    "plt.figure(figsize=(12,12))\n",
    "for n , i in enumerate(list(np.random.randint(0,len(X_pred),36))) : \n",
    "    plt.subplot(6,6,n+1)\n",
    "    plt.imshow(X_pred[i])    \n",
    "    plt.axis('off')\n",
    "    plt.title(getcode(np.argmax(y_result[i])))\n",
    "    \n",
    "    plt.figure(figsize=(12,12))\n",
    "for n , i in enumerate(list(np.random.randint(0,len(X_pred),36))) : \n",
    "    plt.subplot(6,6,n+1)\n",
    "    plt.imshow(X_pred[i])    \n",
    "    plt.axis('off')"
   ]
  }
 ],
 "metadata": {
  "kernelspec": {
   "display_name": "Python 3",
   "language": "python",
   "name": "python3"
  },
  "language_info": {
   "codemirror_mode": {
    "name": "ipython",
    "version": 3
   },
   "file_extension": ".py",
   "mimetype": "text/x-python",
   "name": "python",
   "nbconvert_exporter": "python",
   "pygments_lexer": "ipython3",
   "version": "3.9.18"
  }
 },
 "nbformat": 4,
 "nbformat_minor": 1
}
